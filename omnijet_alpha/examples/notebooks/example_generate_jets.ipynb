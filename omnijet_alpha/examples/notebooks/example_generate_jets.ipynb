{
 "cells": [
  {
   "cell_type": "code",
   "execution_count": 1,
   "metadata": {},
   "outputs": [
    {
     "name": "stderr",
     "output_type": "stream",
     "text": [
      "INFO:numexpr.utils:Note: NumExpr detected 40 cores but \"NUMEXPR_MAX_THREADS\" not set, so enforcing safe limit of 8.\n",
      "INFO:numexpr.utils:NumExpr defaulting to 8 threads.\n",
      "INFO:root:Setup complete\n"
     ]
    }
   ],
   "source": [
    "%load_ext autoreload\n",
    "%autoreload 2\n",
    "\n",
    "import logging\n",
    "from pathlib import Path\n",
    "\n",
    "import awkward as ak\n",
    "import numpy as np\n",
    "import vector\n",
    "from omegaconf import OmegaConf\n",
    "\n",
    "import gabbro.plotting.utils as plot_utils\n",
    "from gabbro.metrics.jet_substructure import JetSubstructure\n",
    "from gabbro.plotting.feature_plotting import plot_features\n",
    "from gabbro.utils.arrays import ak_select_and_preprocess\n",
    "\n",
    "vector.register_awkward()\n",
    "\n",
    "# hacky way to setup logging in jupyter\n",
    "logger = logging.getLogger()\n",
    "logger.setLevel(logging.INFO)\n",
    "logging.basicConfig(level=logging.INFO)\n",
    "logger.info(\"Setup complete\")\n",
    "\n",
    "\n",
    "def get_p4s_from_part_features(part_features):\n",
    "    \"\"\"Small helper function to get the 4-momentum from part_features.\"\"\"\n",
    "    return ak.zip(\n",
    "        {\n",
    "            \"pt\": part_features.part_pt,\n",
    "            \"eta\": part_features.part_etarel,\n",
    "            \"phi\": part_features.part_phirel,\n",
    "            \"mass\": ak.zeros_like(part_features.part_pt),  # massless particles\n",
    "        },\n",
    "        with_name=\"Momentum4D\",\n",
    "    )"
   ]
  },
  {
   "cell_type": "markdown",
   "metadata": {},
   "source": [
    "# Jet generation with a trained OmniJet model\n",
    "\n",
    "This notebook provides a short example on how to load a trained OmniJet model\n",
    "with the next-token-prediction head and generate jets with it.\n",
    "\n",
    "For an example on how to reconstruct the generated jets back to physical space, \n",
    "have a look at [the notebook `examples/notebooks/example_tokenize_and_reconstruct_jets.ipynb`](https://github.com/uhh-pd-ml/omnijet_alpha/blob/main/examples/notebooks/example_tokenize_and_reconstruct_jets.ipynb)\n"
   ]
  },
  {
   "cell_type": "code",
   "execution_count": 2,
   "metadata": {},
   "outputs": [
    {
     "name": "stdout",
     "output_type": "stream",
     "text": [
      "Backbone weights path: None\n"
     ]
    },
    {
     "data": {
      "text/plain": [
       "BackboneNextTokenPredictionLightning(\n",
       "  (module): BackboneModel(\n",
       "    (embedding_table): Embedding(8194, 256)\n",
       "    (GPT_blocks): Sequential(\n",
       "      (0): GPT_DecoderBlock(\n",
       "        (mha_block): MultiHeadAttention(\n",
       "          (key): Linear(in_features=256, out_features=256, bias=False)\n",
       "          (query): Linear(in_features=256, out_features=256, bias=False)\n",
       "          (value): Linear(in_features=256, out_features=256, bias=False)\n",
       "          (dropout): Dropout(p=0.0, inplace=False)\n",
       "          (proj): Linear(in_features=256, out_features=256, bias=True)\n",
       "        )\n",
       "        (ff_block): FeedForward(\n",
       "          (net): Sequential(\n",
       "            (0): Linear(in_features=256, out_features=1024, bias=True)\n",
       "            (1): ReLU()\n",
       "            (2): Linear(in_features=1024, out_features=256, bias=True)\n",
       "          )\n",
       "        )\n",
       "        (layernorm_1): LayerNorm((256,), eps=1e-05, elementwise_affine=True)\n",
       "        (layernorm_2): LayerNorm((256,), eps=1e-05, elementwise_affine=True)\n",
       "      )\n",
       "      (1): GPT_DecoderBlock(\n",
       "        (mha_block): MultiHeadAttention(\n",
       "          (key): Linear(in_features=256, out_features=256, bias=False)\n",
       "          (query): Linear(in_features=256, out_features=256, bias=False)\n",
       "          (value): Linear(in_features=256, out_features=256, bias=False)\n",
       "          (dropout): Dropout(p=0.0, inplace=False)\n",
       "          (proj): Linear(in_features=256, out_features=256, bias=True)\n",
       "        )\n",
       "        (ff_block): FeedForward(\n",
       "          (net): Sequential(\n",
       "            (0): Linear(in_features=256, out_features=1024, bias=True)\n",
       "            (1): ReLU()\n",
       "            (2): Linear(in_features=1024, out_features=256, bias=True)\n",
       "          )\n",
       "        )\n",
       "        (layernorm_1): LayerNorm((256,), eps=1e-05, elementwise_affine=True)\n",
       "        (layernorm_2): LayerNorm((256,), eps=1e-05, elementwise_affine=True)\n",
       "      )\n",
       "      (2): GPT_DecoderBlock(\n",
       "        (mha_block): MultiHeadAttention(\n",
       "          (key): Linear(in_features=256, out_features=256, bias=False)\n",
       "          (query): Linear(in_features=256, out_features=256, bias=False)\n",
       "          (value): Linear(in_features=256, out_features=256, bias=False)\n",
       "          (dropout): Dropout(p=0.0, inplace=False)\n",
       "          (proj): Linear(in_features=256, out_features=256, bias=True)\n",
       "        )\n",
       "        (ff_block): FeedForward(\n",
       "          (net): Sequential(\n",
       "            (0): Linear(in_features=256, out_features=1024, bias=True)\n",
       "            (1): ReLU()\n",
       "            (2): Linear(in_features=1024, out_features=256, bias=True)\n",
       "          )\n",
       "        )\n",
       "        (layernorm_1): LayerNorm((256,), eps=1e-05, elementwise_affine=True)\n",
       "        (layernorm_2): LayerNorm((256,), eps=1e-05, elementwise_affine=True)\n",
       "      )\n",
       "    )\n",
       "  )\n",
       "  (head): NextTokenPredictionHead(\n",
       "    (fc1): Linear(in_features=256, out_features=8194, bias=True)\n",
       "  )\n",
       "  (criterion): CrossEntropyLoss()\n",
       ")"
      ]
     },
     "execution_count": 2,
     "metadata": {},
     "output_type": "execute_result"
    }
   ],
   "source": [
    "from gabbro.models.backbone import BackboneNextTokenPredictionLightning\n",
    "\n",
    "# this checkpoint is the checkpoint from a backbone training with the nex-token-prediction head\n",
    "# make sure you have downloaded the checkpoint in advance\n",
    "# if not, run the script `checkpoints/download_checkpoints.sh`\n",
    "ckpt_path = \"../../checkpoints/./generative_8192_tokens/OmniJet_generative_model_UnintentionalPinscher_59.ckpt\"\n",
    "\n",
    "gen_model = BackboneNextTokenPredictionLightning.load_from_checkpoint(ckpt_path)\n",
    "gen_model.eval()"
   ]
  },
  {
   "cell_type": "markdown",
   "metadata": {},
   "source": [
    "### Generating jets"
   ]
  },
  {
   "cell_type": "code",
   "execution_count": 3,
   "metadata": {},
   "outputs": [
    {
     "name": "stdout",
     "output_type": "stream",
     "text": [
      "Generating 2000 jets in 4 batches of size 512\n"
     ]
    },
    {
     "name": "stderr",
     "output_type": "stream",
     "text": [
      "  0%|          | 0/4 [00:00<?, ?it/s]"
     ]
    },
    {
     "name": "stderr",
     "output_type": "stream",
     "text": [
      "100%|██████████| 4/4 [00:18<00:00,  4.66s/it]\n"
     ]
    }
   ],
   "source": [
    "# save_path = \"/beegfs/desy/user/birkjosc/testing/omnijet/generated_jets.parquet\"\n",
    "generated_jets = gen_model.generate_n_jets_batched(\n",
    "    n_jets=2_000,\n",
    "    batch_size=512,\n",
    "    # saveas=save_path,  # use this option if you want to save the awkward array as a parquet file\n",
    ")"
   ]
  },
  {
   "cell_type": "code",
   "execution_count": 4,
   "metadata": {},
   "outputs": [
    {
     "data": {
      "text/html": [
       "<pre>[[0, 6483, 6913, 5109, 5342, 5885, ..., 7391, 1033, 7316, 3748, 4546, 4036],\n",
       " [0, 7018, 4281, 2055, 7493, 4471, ..., 3947, 2210, 6499, 4803, 674, 1943],\n",
       " [0, 385, 4836, 1157, 3682, 2206, ..., 3125, 4544, 5534, 2506, 2207, 3805],\n",
       " [0, 1371, 8167, 4765, 3957, 4557, 6680, ..., 7143, 48, 5828, 3617, 772, 8178],\n",
       " [0, 3856, 4253, 7328, 5817, 4712, 3048, ..., 3155, 8051, 639, 1153, 7428, 39],\n",
       " [0, 8065, 2461, 7250, 4165, 1043, ..., 6287, 2422, 4318, 4367, 7576, 7278],\n",
       " [0, 1617, 1371, 3983, 3443, 1054, ..., 1049, 5051, 7605, 8060, 4516, 5129],\n",
       " [0, 6585, 2039, 4836, 6873, 2758, ..., 4612, 4224, 2893, 2328, 1400, 7357],\n",
       " [0, 4504, 5877, 7148, 210, 5470, ..., 4640, 1783, 4524, 4761, 2848, 4961],\n",
       " [0, 5602, 2943, 3312, 2432, 5017, ..., 3247, 6554, 6762, 5599, 2969, 4580],\n",
       " ...,\n",
       " [0, 5948, 7215, 3832, 1131, 6237, ..., 2590, 1539, 3705, 336, 2037, 1736],\n",
       " [0, 2076, 7148, 5342, 2039, 105, ..., 2069, 7923, 1056, 4164, 1761, 1453],\n",
       " [0, 7618, 1691, 5602, 210, 2044, 5203, ..., 5241, 673, 6255, 4688, 962, 1961],\n",
       " [0, 4985, 3926, 3218, 2013, 7309, ..., 4707, 3290, 7187, 5355, 1551, 2375],\n",
       " [0, 1547, 5342, 6472, 105, 7323, 5645, ..., 1096, 7943, 855, 4541, 7654, 4807],\n",
       " [0, 7328, 356, 6573, 1342, 109, 8148, ..., 240, 4670, 3340, 6744, 1565, 5403],\n",
       " [0, 1650, 2737, 4371, 5017, 5224, ..., 2743, 5507, 1945, 1935, 433, 1058],\n",
       " [0, 698, 1371, 5998, 7880, 1905, ..., 7184, 6796, 3669, 1621, 3248, 6565],\n",
       " [0, 6220, 7148, 210, 3983, 3881, ..., 7379, 7589, 7852, 3332, 8018, 1961]]\n",
       "--------------------------------------------------------------------------------\n",
       "type: 2000 * var * int64</pre>"
      ],
      "text/plain": [
       "<Array [[0, 6483, 6913, ..., 3748, 4546, 4036], ...] type='2000 * var * int64'>"
      ]
     },
     "execution_count": 4,
     "metadata": {},
     "output_type": "execute_result"
    }
   ],
   "source": [
    "generated_jets"
   ]
  },
  {
   "cell_type": "markdown",
   "metadata": {},
   "source": [
    "## Reconstruct the generated jets back to physical space"
   ]
  },
  {
   "cell_type": "code",
   "execution_count": 5,
   "metadata": {},
   "outputs": [
    {
     "name": "stdout",
     "output_type": "stream",
     "text": [
      "\n",
      "pp_dict:\n",
      "part_pt {'multiply_by': 1, 'subtract_by': 1.8, 'func': 'np.log', 'inv_func': 'np.exp'}\n",
      "part_etarel {'multiply_by': 3, 'larger_than': -0.8, 'smaller_than': 0.8}\n",
      "part_phirel {'multiply_by': 3, 'larger_than': -0.8, 'smaller_than': 0.8}\n",
      "\n",
      "pp_dict_cuts:\n",
      "part_pt {'larger_than': None, 'smaller_than': None}\n",
      "part_etarel {'larger_than': -0.8, 'smaller_than': 0.8}\n",
      "part_phirel {'larger_than': -0.8, 'smaller_than': 0.8}\n",
      "\n",
      "Model:\n",
      "VQVAELightning(\n",
      "  (model): VQVAENormFormer(\n",
      "    (input_projection): Linear(in_features=3, out_features=128, bias=True)\n",
      "    (encoder_normformer): NormformerStack(\n",
      "      (blocks): ModuleList(\n",
      "        (0-3): 4 x NormformerBlock(\n",
      "          (norm1): LayerNorm((128,), eps=1e-05, elementwise_affine=True)\n",
      "          (attn): MultiheadAttention(\n",
      "            (out_proj): NonDynamicallyQuantizableLinear(in_features=128, out_features=128, bias=True)\n",
      "          )\n",
      "          (norm2): LayerNorm((128,), eps=1e-05, elementwise_affine=True)\n",
      "          (mlp): Sequential(\n",
      "            (0): LayerNorm((128,), eps=1e-05, elementwise_affine=True)\n",
      "            (1): Linear(in_features=128, out_features=128, bias=True)\n",
      "            (2): SiLU()\n",
      "            (3): Dropout(p=0.1, inplace=False)\n",
      "            (4): Linear(in_features=128, out_features=128, bias=True)\n",
      "          )\n",
      "        )\n",
      "      )\n",
      "    )\n",
      "    (latent_projection_in): Linear(in_features=128, out_features=4, bias=True)\n",
      "    (vqlayer): VectorQuant(\n",
      "      num_codes: 8192\n",
      "      groups: 1\n",
      "      enabled: True\n",
      "      (norm_layer): Identity()\n",
      "      (codebook): Embedding(8192, 4)\n",
      "      (affine_transform): AffineTransform()\n",
      "    )\n",
      "    (latent_projection_out): Linear(in_features=4, out_features=128, bias=True)\n",
      "    (decoder_normformer): NormformerStack(\n",
      "      (blocks): ModuleList(\n",
      "        (0-3): 4 x NormformerBlock(\n",
      "          (norm1): LayerNorm((128,), eps=1e-05, elementwise_affine=True)\n",
      "          (attn): MultiheadAttention(\n",
      "            (out_proj): NonDynamicallyQuantizableLinear(in_features=128, out_features=128, bias=True)\n",
      "          )\n",
      "          (norm2): LayerNorm((128,), eps=1e-05, elementwise_affine=True)\n",
      "          (mlp): Sequential(\n",
      "            (0): LayerNorm((128,), eps=1e-05, elementwise_affine=True)\n",
      "            (1): Linear(in_features=128, out_features=128, bias=True)\n",
      "            (2): SiLU()\n",
      "            (3): Dropout(p=0.1, inplace=False)\n",
      "            (4): Linear(in_features=128, out_features=128, bias=True)\n",
      "          )\n",
      "        )\n",
      "      )\n",
      "    )\n",
      "    (output_projection): Linear(in_features=128, out_features=3, bias=True)\n",
      "  )\n",
      "  (criterion): MSELoss()\n",
      ")\n"
     ]
    }
   ],
   "source": [
    "# --- Load the tokenizer model from checkpoint, and also get the feature_dict from the config ---\n",
    "\n",
    "from gabbro.models.vqvae import VQVAELightning\n",
    "\n",
    "# this checkpoint is the checkpoint from a tokenization training\n",
    "ckpt_path = \"../../checkpoints/vqvae_8192_tokens/model_ckpt.ckpt\"\n",
    "vqvae_model = VQVAELightning.load_from_checkpoint(ckpt_path)\n",
    "vqvae_model.eval()\n",
    "\n",
    "cfg = OmegaConf.load(Path(ckpt_path).parent / \"config.yaml\")\n",
    "pp_dict = OmegaConf.to_container(cfg.data.dataset_kwargs_common.feature_dict)\n",
    "print(\"\\npp_dict:\")\n",
    "for item in pp_dict:\n",
    "    print(item, pp_dict[item])\n",
    "\n",
    "# get the cuts from the pp_dict (since this leads to particles being removed during\n",
    "# preprocessing/tokenization), thus we also have to remove them from the original jets\n",
    "# when we compare the tokenized+reconstructed particles to the original ones)\n",
    "pp_dict_cuts = {\n",
    "    feat_name: {\n",
    "        criterion: pp_dict[feat_name].get(criterion)\n",
    "        for criterion in [\"larger_than\", \"smaller_than\"]\n",
    "    }\n",
    "    for feat_name in pp_dict\n",
    "}\n",
    "\n",
    "print(\"\\npp_dict_cuts:\")\n",
    "for item in pp_dict_cuts:\n",
    "    print(item, pp_dict_cuts[item])\n",
    "\n",
    "print(\"\\nModel:\")\n",
    "print(vqvae_model)"
   ]
  },
  {
   "cell_type": "code",
   "execution_count": 6,
   "metadata": {},
   "outputs": [
    {
     "name": "stderr",
     "output_type": "stream",
     "text": [
      "  0%|          | 0/4 [00:00<?, ?it/s]"
     ]
    },
    {
     "name": "stderr",
     "output_type": "stream",
     "text": [
      "100%|██████████| 4/4 [00:00<00:00, 50.28it/s]\n"
     ]
    }
   ],
   "source": [
    "# reconstruct the generated tokens to physical features\n",
    "\n",
    "# note that if you want to reconstruct tokens from the generative model, you'll have\n",
    "# to remove the start token from the tokenized array, and subtract 1 from the tokens\n",
    "# (since we chose the convention to use 0 as the start token, so the tokens from the\n",
    "# generative model are shifted by 1 compared to the ones from the VQ-VAE)\n",
    "part_features_generated = vqvae_model.reconstruct_ak_tokens(\n",
    "    tokens_ak=generated_jets[:, 1:] - 1,\n",
    "    pp_dict=pp_dict,\n",
    "    batch_size=512,\n",
    "    pad_length=128,\n",
    ")"
   ]
  },
  {
   "cell_type": "code",
   "execution_count": 7,
   "metadata": {},
   "outputs": [
    {
     "name": "stderr",
     "output_type": "stream",
     "text": [
      "100%|██████████| 391/391 [00:24<00:00, 16.03it/s]\n",
      "100%|██████████| 391/391 [00:08<00:00, 47.01it/s]\n"
     ]
    },
    {
     "name": "stdout",
     "output_type": "stream",
     "text": [
      "Calculating substructure for 199976 jets\n",
      "Clustering jets with fastjet\n",
      "Jet definition: Longitudinally invariant kt algorithm with R = 0.8 and E scheme recombination\n"
     ]
    },
    {
     "name": "stderr",
     "output_type": "stream",
     "text": [
      "UserWarning: dcut and exclusive jets for jet-finders other than kt, C/A or genkt with p>=0 should be interpreted with care.\n"
     ]
    },
    {
     "name": "stdout",
     "output_type": "stream",
     "text": [
      "#--------------------------------------------------------------------------\n",
      "#                         FastJet release 3.4.1\n",
      "#                 M. Cacciari, G.P. Salam and G. Soyez                  \n",
      "#     A software package for jet finding and analysis at colliders      \n",
      "#                           http://fastjet.fr                           \n",
      "#\t                                                                      \n",
      "# Please cite EPJC72(2012)1896 [arXiv:1111.6097] if you use this package\n",
      "# for scientific work and optionally PLB641(2006)57 [hep-ph/0512210].   \n",
      "#                                                                       \n",
      "# FastJet is provided without warranty under the GNU GPL v2 or higher.  \n",
      "# It uses T. Chan's closest pair algorithm, S. Fortune's Voronoi code,\n",
      "# CGAL and 3rd party plugin jet algorithms. See COPYING file for details.\n",
      "#--------------------------------------------------------------------------\n",
      "Calculating N-subjettiness\n",
      "Calculating D2\n"
     ]
    }
   ],
   "source": [
    "from gabbro.data.loading import read_jetclass_file\n",
    "\n",
    "n_load = 100_000\n",
    "\n",
    "# --- Load JetClass data ---\n",
    "\n",
    "# change this to the path where you have the JetClass files stored\n",
    "jetclass_file_path_qcd = (\n",
    "    \"/beegfs/desy/user/birkjosc/datasets/jetclass/JetClass/test_20M/ZJetsToNuNu_100.root\"\n",
    ")\n",
    "jetclass_file_path_top = (\n",
    "    \"/beegfs/desy/user/birkjosc/datasets/jetclass/JetClass/test_20M/TTBar_100.root\"\n",
    ")\n",
    "\n",
    "load_kwargs = dict(\n",
    "    particle_features=[\"part_pt\", \"part_etarel\", \"part_phirel\"],\n",
    "    jet_features=None,\n",
    "    labels=None,\n",
    "    n_load=n_load,\n",
    ")\n",
    "part_features_ak_qcd, _, _ = read_jetclass_file(filepath=jetclass_file_path_qcd, **load_kwargs)\n",
    "part_features_ak_qcd = ak_select_and_preprocess(part_features_ak_qcd, pp_dict_cuts)[:, :128]\n",
    "part_features_ak_top, _, _ = read_jetclass_file(filepath=jetclass_file_path_top, **load_kwargs)\n",
    "part_features_ak_top = ak_select_and_preprocess(part_features_ak_top, pp_dict_cuts)[:, :128]\n",
    "\n",
    "# concatenate top and qcd jets from JetClass\n",
    "part_features_ak = ak.concatenate([part_features_ak_qcd, part_features_ak_top], axis=0)\n",
    "\n",
    "# tokenization and reconstruction\n",
    "part_features_ak_tokenized = vqvae_model.tokenize_ak_array(\n",
    "    ak_arr=part_features_ak,\n",
    "    pp_dict=pp_dict,\n",
    "    batch_size=512,\n",
    "    pad_length=128,\n",
    ")\n",
    "part_features_ak_reco = vqvae_model.reconstruct_ak_tokens(\n",
    "    tokens_ak=part_features_ak_tokenized,\n",
    "    pp_dict=pp_dict,\n",
    "    batch_size=512,\n",
    "    pad_length=128,\n",
    ")\n",
    "\n",
    "# plot inclusive jet-level distributions\n",
    "p4s_jetclass = get_p4s_from_part_features(part_features_ak_reco)\n",
    "p4s_jets_jetclass = ak.sum(p4s_jetclass, axis=1)\n",
    "\n",
    "# calculate the substructure\n",
    "jet_substructure_jetclass = JetSubstructure(p4s_jetclass[ak.num(p4s_jetclass) > 3])"
   ]
  },
  {
   "cell_type": "code",
   "execution_count": 8,
   "metadata": {},
   "outputs": [
    {
     "data": {
      "image/png": "[encoded data removed]",
      "text/plain": [
       "<Figure size 900x200 with 3 Axes>"
      ]
     },
     "metadata": {},
     "output_type": "display_data"
    },
    {
     "data": {
      "image/png": "[encoded data removed]",
      "text/plain": [
       "<Figure size 900x200 with 3 Axes>"
      ]
     },
     "metadata": {},
     "output_type": "display_data"
    }
   ],
   "source": [
    "p4s_generated = get_p4s_from_part_features(part_features_generated)\n",
    "p4s_jets_generated = ak.sum(p4s_generated, axis=1)\n",
    "\n",
    "fig, axarr = plot_features(\n",
    "    ak_array_dict={\n",
    "        \"JetClass jets\\n(tokenized+reconstructed)\": p4s_jets_jetclass,\n",
    "        \"Generated jets\": p4s_jets_generated,\n",
    "    },\n",
    "    names={\n",
    "        \"pt\": plot_utils.DEFAULT_LABELS[\"jet_pt\"],\n",
    "        \"eta\": plot_utils.DEFAULT_LABELS[\"jet_eta\"],\n",
    "        \"mass\": plot_utils.DEFAULT_LABELS[\"jet_mass\"],\n",
    "    },\n",
    "    flatten=False,\n",
    "    decorate_ax_kwargs={\"yscale\": 1.7},\n",
    "    bins_dict={\n",
    "        \"pt\": np.linspace(300, 1200, 70),\n",
    "        \"eta\": np.linspace(-0.05, 0.05, 100),\n",
    "        \"mass\": np.linspace(0, 400, 50),\n",
    "    },\n",
    "    # ax_size=(4.2, 3),\n",
    "    legend_kwargs={\"fontsize\": 8},\n",
    ")\n",
    "\n",
    "# particle-level distributions\n",
    "fig, axarr = plot_features(\n",
    "    ak_array_dict={\n",
    "        \"JetClass particles\\n(tokenized+reconstructed)\": p4s_jetclass,\n",
    "        \"Generated particles\": get_p4s_from_part_features(part_features_generated),\n",
    "    },\n",
    "    names={\n",
    "        \"pt\": plot_utils.DEFAULT_LABELS[\"part_pt\"],\n",
    "        \"eta\": plot_utils.DEFAULT_LABELS[\"part_eta\"],\n",
    "        \"phi\": plot_utils.DEFAULT_LABELS[\"part_phi\"],\n",
    "    },\n",
    "    flatten=True,\n",
    "    decorate_ax_kwargs={\"yscale\": 1.7},\n",
    "    bins_dict={\n",
    "        \"pt\": np.linspace(0, 800, 70),\n",
    "        \"eta\": np.linspace(-0.9, 0.9, 70),\n",
    "        \"phi\": np.linspace(-0.9, 0.9, 70),\n",
    "    },\n",
    "    # ax_size=(4.2, 3),\n",
    "    logscale_features=[\"pt\"],\n",
    "    legend_kwargs={\"fontsize\": 8},\n",
    ")"
   ]
  },
  {
   "cell_type": "code",
   "execution_count": 9,
   "metadata": {},
   "outputs": [
    {
     "name": "stdout",
     "output_type": "stream",
     "text": [
      "Calculating substructure for 1999 jets\n",
      "Clustering jets with fastjet\n",
      "Jet definition: Longitudinally invariant kt algorithm with R = 0.8 and E scheme recombination\n"
     ]
    },
    {
     "name": "stderr",
     "output_type": "stream",
     "text": [
      "UserWarning: dcut and exclusive jets for jet-finders other than kt, C/A or genkt with p>=0 should be interpreted with care.\n"
     ]
    },
    {
     "name": "stdout",
     "output_type": "stream",
     "text": [
      "Calculating N-subjettiness\n",
      "Calculating D2\n"
     ]
    }
   ],
   "source": [
    "# calculate the substructure\n",
    "from gabbro.metrics.jet_substructure import JetSubstructure\n",
    "\n",
    "jet_substructure_generated = JetSubstructure(p4s_generated[ak.num(p4s_generated) > 3])"
   ]
  },
  {
   "cell_type": "code",
   "execution_count": 10,
   "metadata": {},
   "outputs": [
    {
     "data": {
      "image/png": "[encoded data removed]",
      "text/plain": [
       "<Figure size 900x200 with 3 Axes>"
      ]
     },
     "metadata": {},
     "output_type": "display_data"
    }
   ],
   "source": [
    "# plot the substructure\n",
    "fig, axarr = plot_features(\n",
    "    ak_array_dict={\n",
    "        \"JetClass jets\": jet_substructure_jetclass.get_substructure_as_ak_array(),\n",
    "        \"Generated jets\": jet_substructure_generated.get_substructure_as_ak_array(),\n",
    "    },\n",
    "    names=[\"jet_mass\", \"tau32\", \"jet_n_constituents\"],\n",
    "    flatten=False,\n",
    "    # ax_size=(3.5, 3),\n",
    "    legend_kwargs={\"fontsize\": 7, \"ncol\": 2},\n",
    "    decorate_ax_kwargs={\"yscale\": 1.6},\n",
    "    bins_dict={\n",
    "        \"jet_mass\": np.linspace(0, 400, 50),\n",
    "        \"tau32\": np.linspace(0, 1.25, 50),\n",
    "        \"jet_n_constituents\": np.linspace(0.5, 100.5, 51),\n",
    "    },\n",
    ")"
   ]
  },
  {
   "cell_type": "code",
   "execution_count": null,
   "metadata": {},
   "outputs": [],
   "source": []
  }
 ],
 "metadata": {
  "kernelspec": {
   "display_name": "base",
   "language": "python",
   "name": "python3"
  },
  "language_info": {
   "codemirror_mode": {
    "name": "ipython",
    "version": 3
   },
   "file_extension": ".py",
   "mimetype": "text/x-python",
   "name": "python",
   "nbconvert_exporter": "python",
   "pygments_lexer": "ipython3",
   "version": "3.10.13"
  }
 },
 "nbformat": 4,
 "nbformat_minor": 2
}
