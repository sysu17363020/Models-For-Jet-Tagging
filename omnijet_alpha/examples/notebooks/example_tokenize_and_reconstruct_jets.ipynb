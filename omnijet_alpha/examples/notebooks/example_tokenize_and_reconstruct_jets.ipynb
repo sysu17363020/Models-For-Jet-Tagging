{
 "cells": [
  {
   "cell_type": "code",
   "execution_count": 1,
   "metadata": {},
   "outputs": [
    {
     "name": "stderr",
     "output_type": "stream",
     "text": [
      "INFO:root:Setup complete\n"
     ]
    }
   ],
   "source": [
    "%load_ext autoreload\n",
    "%autoreload 2\n",
    "\n",
    "import logging\n",
    "from pathlib import Path\n",
    "\n",
    "import awkward as ak\n",
    "import numpy as np\n",
    "import vector\n",
    "from omegaconf import OmegaConf\n",
    "\n",
    "import gabbro.plotting.utils as plot_utils\n",
    "from gabbro.plotting.feature_plotting import plot_features\n",
    "from gabbro.utils.arrays import ak_select_and_preprocess\n",
    "\n",
    "# hacky way to setup logging in jupyter\n",
    "logger = logging.getLogger()\n",
    "logger.setLevel(logging.INFO)\n",
    "logging.basicConfig(level=logging.INFO)\n",
    "logger.info(\"Setup complete\")\n",
    "\n",
    "vector.register_awkward()"
   ]
  },
  {
   "cell_type": "markdown",
   "metadata": {},
   "source": [
    "# Tokenization with the VQ-VAE\n",
    "\n",
    "This notebook provides a short example on how to\n",
    "\n",
    "- load a trained VQ-VAE model that was trained with this repo\n",
    "- use the model to encode/tokenize jets from the JetClass dataset\n",
    "- reconstruct/decode the jets from the tokens"
   ]
  },
  {
   "cell_type": "code",
   "execution_count": 2,
   "metadata": {},
   "outputs": [
    {
     "name": "stdout",
     "output_type": "stream",
     "text": [
      "\n",
      "pp_dict:\n",
      "part_pt {'multiply_by': 1, 'subtract_by': 1.8, 'func': 'np.log', 'inv_func': 'np.exp'}\n",
      "part_etarel {'multiply_by': 3, 'larger_than': -0.8, 'smaller_than': 0.8}\n",
      "part_phirel {'multiply_by': 3, 'larger_than': -0.8, 'smaller_than': 0.8}\n",
      "\n",
      "pp_dict_cuts:\n",
      "part_pt {'larger_than': None, 'smaller_than': None}\n",
      "part_etarel {'larger_than': -0.8, 'smaller_than': 0.8}\n",
      "part_phirel {'larger_than': -0.8, 'smaller_than': 0.8}\n",
      "\n",
      "Model:\n",
      "VQVAELightning(\n",
      "  (model): VQVAENormFormer(\n",
      "    (input_projection): Linear(in_features=3, out_features=128, bias=True)\n",
      "    (encoder_normformer): NormformerStack(\n",
      "      (blocks): ModuleList(\n",
      "        (0-3): 4 x NormformerBlock(\n",
      "          (norm1): LayerNorm((128,), eps=1e-05, elementwise_affine=True)\n",
      "          (attn): MultiheadAttention(\n",
      "            (out_proj): NonDynamicallyQuantizableLinear(in_features=128, out_features=128, bias=True)\n",
      "          )\n",
      "          (norm2): LayerNorm((128,), eps=1e-05, elementwise_affine=True)\n",
      "          (mlp): Sequential(\n",
      "            (0): LayerNorm((128,), eps=1e-05, elementwise_affine=True)\n",
      "            (1): Linear(in_features=128, out_features=128, bias=True)\n",
      "            (2): SiLU()\n",
      "            (3): Dropout(p=0.1, inplace=False)\n",
      "            (4): Linear(in_features=128, out_features=128, bias=True)\n",
      "          )\n",
      "        )\n",
      "      )\n",
      "    )\n",
      "    (latent_projection_in): Linear(in_features=128, out_features=4, bias=True)\n",
      "    (vqlayer): VectorQuant(\n",
      "      num_codes: 8192\n",
      "      groups: 1\n",
      "      enabled: True\n",
      "      (norm_layer): Identity()\n",
      "      (codebook): Embedding(8192, 4)\n",
      "      (affine_transform): AffineTransform()\n",
      "    )\n",
      "    (latent_projection_out): Linear(in_features=4, out_features=128, bias=True)\n",
      "    (decoder_normformer): NormformerStack(\n",
      "      (blocks): ModuleList(\n",
      "        (0-3): 4 x NormformerBlock(\n",
      "          (norm1): LayerNorm((128,), eps=1e-05, elementwise_affine=True)\n",
      "          (attn): MultiheadAttention(\n",
      "            (out_proj): NonDynamicallyQuantizableLinear(in_features=128, out_features=128, bias=True)\n",
      "          )\n",
      "          (norm2): LayerNorm((128,), eps=1e-05, elementwise_affine=True)\n",
      "          (mlp): Sequential(\n",
      "            (0): LayerNorm((128,), eps=1e-05, elementwise_affine=True)\n",
      "            (1): Linear(in_features=128, out_features=128, bias=True)\n",
      "            (2): SiLU()\n",
      "            (3): Dropout(p=0.1, inplace=False)\n",
      "            (4): Linear(in_features=128, out_features=128, bias=True)\n",
      "          )\n",
      "        )\n",
      "      )\n",
      "    )\n",
      "    (output_projection): Linear(in_features=128, out_features=3, bias=True)\n",
      "  )\n",
      "  (criterion): MSELoss()\n",
      ")\n"
     ]
    }
   ],
   "source": [
    "# --- Load the tokenizer model from checkpoint, and also get the feature_dict from the config ---\n",
    "\n",
    "from gabbro.models.vqvae import VQVAELightning\n",
    "\n",
    "# this checkpoint is the checkpoint from a tokenization training\n",
    "ckpt_path = \"../../checkpoints/vqvae_8192_tokens/model_ckpt.ckpt\"\n",
    "vqvae_model = VQVAELightning.load_from_checkpoint(ckpt_path)\n",
    "vqvae_model.eval()\n",
    "\n",
    "cfg = OmegaConf.load(Path(ckpt_path).parent / \"config.yaml\")\n",
    "pp_dict = OmegaConf.to_container(cfg.data.dataset_kwargs_common.feature_dict)\n",
    "print(\"\\npp_dict:\")\n",
    "for item in pp_dict:\n",
    "    print(item, pp_dict[item])\n",
    "\n",
    "# get the cuts from the pp_dict (since this leads to particles being removed during\n",
    "# preprocessing/tokenization), thus we also have to remove them from the original jets\n",
    "# when we compare the tokenized+reconstructed particles to the original ones)\n",
    "pp_dict_cuts = {\n",
    "    feat_name: {\n",
    "        criterion: pp_dict[feat_name].get(criterion)\n",
    "        for criterion in [\"larger_than\", \"smaller_than\"]\n",
    "    }\n",
    "    for feat_name in pp_dict\n",
    "}\n",
    "\n",
    "print(\"\\npp_dict_cuts:\")\n",
    "for item in pp_dict_cuts:\n",
    "    print(item, pp_dict_cuts[item])\n",
    "\n",
    "print(\"\\nModel:\")\n",
    "print(vqvae_model)"
   ]
  },
  {
   "cell_type": "markdown",
   "metadata": {},
   "source": [
    "### Load a file from the JetClass dataset"
   ]
  },
  {
   "cell_type": "code",
   "execution_count": 3,
   "metadata": {},
   "outputs": [],
   "source": [
    "from gabbro.data.loading import read_jetclass_file\n",
    "\n",
    "jetclass_file_path = (\n",
    "    \"/beegfs/desy/user/birkjosc/datasets/jetclass/JetClass/test_20M/ZJetsToNuNu_100.root\"\n",
    ")\n",
    "\n",
    "part_features_ak, _, _ = read_jetclass_file(\n",
    "    filepath=jetclass_file_path,\n",
    "    particle_features=[\"part_pt\", \"part_etarel\", \"part_phirel\"],\n",
    "    jet_features=None,\n",
    "    labels=None,\n",
    "    n_load=100_000,\n",
    ")\n",
    "part_features_ak = ak_select_and_preprocess(part_features_ak, pp_dict_cuts)[:, :128]"
   ]
  },
  {
   "cell_type": "markdown",
   "metadata": {},
   "source": [
    "### Tokenize and reconstruct the jets"
   ]
  },
  {
   "cell_type": "code",
   "execution_count": 4,
   "metadata": {},
   "outputs": [
    {
     "name": "stderr",
     "output_type": "stream",
     "text": [
      "100%|██████████| 196/196 [00:12<00:00, 15.85it/s]\n",
      "100%|██████████| 196/196 [00:04<00:00, 48.80it/s]\n"
     ]
    }
   ],
   "source": [
    "# tokenization and reconstruction\n",
    "\n",
    "part_features_ak_tokenized = vqvae_model.tokenize_ak_array(\n",
    "    ak_arr=part_features_ak,\n",
    "    pp_dict=pp_dict,\n",
    "    batch_size=512,\n",
    "    pad_length=128,\n",
    ")\n",
    "# note that if you want to reconstruct tokens from the generative model, you'll have\n",
    "# to remove the start token from the tokenized array, and subtract 1 from the tokens\n",
    "# (since we chose the convention to use 0 as the start token, so the tokens from the\n",
    "# generative model are shifted by 1 compared to the ones from the VQ-VAE)\n",
    "part_features_ak_reco = vqvae_model.reconstruct_ak_tokens(\n",
    "    tokens_ak=part_features_ak_tokenized,\n",
    "    pp_dict=pp_dict,\n",
    "    batch_size=512,\n",
    "    pad_length=128,\n",
    ")"
   ]
  },
  {
   "cell_type": "code",
   "execution_count": 5,
   "metadata": {},
   "outputs": [
    {
     "name": "stdout",
     "output_type": "stream",
     "text": [
      "First 5 tokenized jets:\n",
      "[500, 4.81e+03, 803, 4.9e+03, 2.84e+03, ..., 5.75e+03, 4.82e+03, 5.9e+03, 683]\n",
      "[7.24e+03, 5.92e+03, 4.74e+03, 3.4e+03, ..., 2.77e+03, 2.77e+03, 3.01e+03]\n",
      "[4.6e+03, 1.58e+03, 489, 1.27e+03, ..., 1.13e+03, 4.49e+03, 5.36e+03, 2.26e+03]\n",
      "[6.29e+03, 6.13e+03, 3.86e+03, 3.19e+03, 7.91e+03, ..., 157, 978, 63, 1.49e+03]\n",
      "[97, 2.4e+03, 5.34e+03, 7.32e+03, ..., 6.72e+03, 3.53e+03, 4.81e+03, 6.13e+03]\n",
      "\n",
      "First 5 reconstructed jets:\n",
      "{part_pt: [143, 120, ..., 0.613, 0.493], part_etarel: [...], ...}\n",
      "{part_pt: [111, 59.2, ..., 0.943, 0.957], part_etarel: [...], ...}\n",
      "{part_pt: [117, 81.2, ..., 0.982, 0.668], part_etarel: [...], ...}\n",
      "{part_pt: [62.6, 56.4, ..., 2.26, 1.19], part_etarel: [...], ...}\n",
      "{part_pt: [65.7, 53.1, ..., 0.851, 0.802], part_etarel: [...], ...}\n"
     ]
    }
   ],
   "source": [
    "# inspect the tokenized and reconstructed jets\n",
    "print(\"First 5 tokenized jets:\")\n",
    "for i in range(5):\n",
    "    print(part_features_ak_tokenized[i])\n",
    "\n",
    "print(\"\\nFirst 5 reconstructed jets:\")\n",
    "for i in range(5):\n",
    "    print(part_features_ak_reco[i])"
   ]
  },
  {
   "cell_type": "markdown",
   "metadata": {},
   "source": [
    "### Calculate the four-momentum of the reconstructed jets and make comparison plots"
   ]
  },
  {
   "cell_type": "code",
   "execution_count": 6,
   "metadata": {},
   "outputs": [],
   "source": [
    "def get_p4s_from_part_features(part_features):\n",
    "    \"\"\"Small helper function to get the 4-momentum from part_features.\"\"\"\n",
    "    return ak.zip(\n",
    "        {\n",
    "            \"pt\": part_features.part_pt,\n",
    "            \"eta\": part_features.part_etarel,\n",
    "            \"phi\": part_features.part_phirel,\n",
    "            \"mass\": ak.zeros_like(part_features.part_pt),  # massless particles\n",
    "        },\n",
    "        with_name=\"Momentum4D\",\n",
    "    )\n",
    "\n",
    "\n",
    "p4s_original = get_p4s_from_part_features(part_features_ak)\n",
    "p4s_reco = get_p4s_from_part_features(part_features_ak_reco)"
   ]
  },
  {
   "cell_type": "code",
   "execution_count": 7,
   "metadata": {},
   "outputs": [
    {
     "data": {
      "image/png": "[encoded data removed]",
      "text/plain": [
       "<Figure size 900x200 with 3 Axes>"
      ]
     },
     "metadata": {},
     "output_type": "display_data"
    },
    {
     "data": {
      "image/png": "[encoded data removed]",
      "text/plain": [
       "<Figure size 900x200 with 3 Axes>"
      ]
     },
     "metadata": {},
     "output_type": "display_data"
    }
   ],
   "source": [
    "# plot inclusive jet-level distributions\n",
    "p4s_jets_original = ak.sum(p4s_original, axis=1)\n",
    "p4s_jets_reco = ak.sum(p4s_reco, axis=1)\n",
    "\n",
    "fig, axarr = plot_features(\n",
    "    ak_array_dict={\n",
    "        \"Original jets\": p4s_jets_original,\n",
    "        \"Reconstructed jets\": p4s_jets_reco,\n",
    "    },\n",
    "    names={\n",
    "        \"pt\": plot_utils.DEFAULT_LABELS[\"jet_pt\"],\n",
    "        \"eta\": plot_utils.DEFAULT_LABELS[\"jet_eta\"],\n",
    "        # \"phi\": plot_utils.DEFAULT_LABELS[\"jet_phi\"],\n",
    "        \"mass\": plot_utils.DEFAULT_LABELS[\"jet_mass\"],\n",
    "    },\n",
    "    flatten=False,\n",
    "    decorate_ax_kwargs={\"yscale\": 1.7},\n",
    "    bins_dict={\n",
    "        \"pt\": np.linspace(450, 1050, 100),\n",
    "        \"eta\": np.linspace(-0.05, 0.05, 100),\n",
    "        \"mass\": np.linspace(0, 300, 100),\n",
    "    },\n",
    ")\n",
    "# plot the resolution (i.e. jet features of the reconstructed jets - jet features of the original jets)\n",
    "fig, axarr = plot_features(\n",
    "    ak_array_dict={\n",
    "        \"Difference\": ak.Array(\n",
    "            {\n",
    "                \"pt\": p4s_jets_reco.pt - p4s_jets_original.pt,\n",
    "                \"eta\": p4s_jets_reco.eta - p4s_jets_original.eta,\n",
    "                \"mass\": p4s_jets_reco.mass - p4s_jets_original.mass,\n",
    "            }\n",
    "        )\n",
    "    },\n",
    "    names={\n",
    "        \"pt\": \"Jet $p_T^{\\\\text{reco}} - p_T^{\\\\text{orig}}$\",\n",
    "        \"eta\": \"Jet $\\\\eta^{\\\\text{reco}} - \\\\eta^{\\\\text{orig}}$\",\n",
    "        \"mass\": \"Jet $m^{\\\\text{reco}} - m^{\\\\text{orig}}$\",\n",
    "    },\n",
    "    flatten=False,\n",
    "    decorate_ax_kwargs={\"yscale\": 1.7},\n",
    "    bins_dict={\n",
    "        \"pt\": np.linspace(-30, 30, 100),\n",
    "        \"eta\": np.linspace(-0.05, 0.05, 100),\n",
    "        \"mass\": np.linspace(-20, 20, 100),\n",
    "    },\n",
    "    colors=[\"C2\"],\n",
    ")"
   ]
  },
  {
   "cell_type": "code",
   "execution_count": null,
   "metadata": {},
   "outputs": [],
   "source": []
  }
 ],
 "metadata": {
  "kernelspec": {
   "display_name": "base",
   "language": "python",
   "name": "python3"
  },
  "language_info": {
   "codemirror_mode": {
    "name": "ipython",
    "version": 3
   },
   "file_extension": ".py",
   "mimetype": "text/x-python",
   "name": "python",
   "nbconvert_exporter": "python",
   "pygments_lexer": "ipython3",
   "version": "3.10.13"
  }
 },
 "nbformat": 4,
 "nbformat_minor": 2
}
